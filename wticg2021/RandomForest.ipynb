{
 "cells": [
  {
   "cell_type": "markdown",
   "metadata": {},
   "source": [
    "## Random Forest\n",
    "**Este estudo utilizas como baseline as permissões contidas no dataset Drebin_215**"
   ]
  },
  {
   "cell_type": "code",
   "execution_count": null,
   "metadata": {},
   "outputs": [],
   "source": []
  },
  {
   "cell_type": "code",
   "execution_count": 1,
   "metadata": {},
   "outputs": [],
   "source": [
    "import sklearn\n",
    "import timeit\n",
    "import pickle\n",
    "import seaborn as sns\n",
    "from matplotlib import pyplot as plt\n",
    "#random forests\n",
    "from sklearn.ensemble import RandomForestClassifier\n",
    "from sklearn.metrics import classification_report, confusion_matrix,plot_confusion_matrix, plot_roc_curve\n",
    "from sklearn.model_selection import train_test_split\n",
    "import pandas as pd\n",
    "import numpy  as np\n",
    "import os, sys, stat\n",
    "import matplotlib.pyplot as plt\n",
    "from sklearn.metrics import plot_roc_curve\n",
    "from sklearn.datasets import load_wine\n",
    "from sklearn.model_selection import train_test_split"
   ]
  },
  {
   "cell_type": "markdown",
   "metadata": {},
   "source": [
    "## Load the datasets"
   ]
  },
  {
   "cell_type": "markdown",
   "metadata": {},
   "source": [
    "**load the baseline dataset**"
   ]
  },
  {
   "cell_type": "code",
   "execution_count": 4,
   "metadata": {},
   "outputs": [],
   "source": [
    "dataset_df = pd.read_csv('datasets/DrebinDatasetPermissoes.csv', encoding = 'utf8')"
   ]
  },
  {
   "cell_type": "markdown",
   "metadata": {},
   "source": [
    "**load the dataset SigPID**"
   ]
  },
  {
   "cell_type": "code",
   "execution_count": 5,
   "metadata": {},
   "outputs": [],
   "source": [
    "dataset_sigpid = pd.read_csv(\"datasets/SigPID.csv\", encoding = 'utf8')"
   ]
  },
  {
   "cell_type": "markdown",
   "metadata": {},
   "source": [
    "**load the dangerous permissions**"
   ]
  },
  {
   "cell_type": "code",
   "execution_count": 6,
   "metadata": {},
   "outputs": [],
   "source": [
    "dataset_per_Perigosas = pd.read_csv(\"datasets/PerigosasGoogle.csv\", encoding = 'utf8')"
   ]
  },
  {
   "cell_type": "markdown",
   "metadata": {},
   "source": [
    "**load the recurrent permissions**"
   ]
  },
  {
   "cell_type": "code",
   "execution_count": 9,
   "metadata": {},
   "outputs": [],
   "source": [
    "dataset_per_Recorrentes = pd.read_csv(\"datasets/PermissoesRecorrentes.csv\", encoding = 'utf8')"
   ]
  },
  {
   "cell_type": "markdown",
   "metadata": {},
   "source": [
    "##  Baseline 113 permissões\n",
    "**Preparação do conjunto de dados de treinamento e teste**\n",
    "- n_estimators = número de árvores na previsão\n",
    "- max_features = número máximo de recursos considerados para dividir um nó\n",
    "- max_depth = número máximo de níveis em cada árvore de decisão\n",
    "- min_samples_split = número mínimo de pontos de dados colocados em um nó antes que o nó seja dividido\n",
    "- min_samples_leaf = número mínimo de pontos de dados permitidos em um nó folha\n",
    "- bootstrap = método para amostragem de pontos de dados (com ou sem substituição)"
   ]
  },
  {
   "cell_type": "code",
   "execution_count": 11,
   "metadata": {
    "scrolled": true
   },
   "outputs": [
    {
     "name": "stdout",
     "output_type": "stream",
     "text": [
      "____________________RandomForest 113 Permissões__________________\n",
      "Treino (7367,)\n",
      "Teste (4511,)\n",
      "__________________________________________________\n",
      "TN =  2785\n",
      "TP =  1551\n",
      "FP =  58\n",
      "FN =  117\n",
      "__________________________________________________\n",
      "              precision    recall  f1-score   support\n",
      "\n",
      "           0       0.96      0.98      0.97      2843\n",
      "           1       0.96      0.93      0.95      1668\n",
      "\n",
      "    accuracy                           0.96      4511\n",
      "   macro avg       0.96      0.95      0.96      4511\n",
      "weighted avg       0.96      0.96      0.96      4511\n",
      "\n"
     ]
    }
   ],
   "source": [
    "with open('datasets/resultados/temposRF.txt', 'a') as arquivo:\n",
    "    start_time = timeit.default_timer()\n",
    "\n",
    "    #state = np.random.randint(100)\n",
    "    Y = dataset_df['class']\n",
    "    X = dataset_df.drop(['class'], axis=1)\n",
    "    # dividir entre conjuntos de treino e teste\n",
    "    X_train, X_test, y_train, y_test = train_test_split(X, Y, stratify=Y, test_size=0.3,random_state=1)\n",
    "\n",
    "    X_train, X_val, y_train, y_val = train_test_split(X_train, y_train, test_size=0.3, random_state=1)\n",
    "    #iniciar o classificador\n",
    "    clf1 = RandomForestClassifier()\n",
    "    #treinamento\n",
    "    clf1.fit(X_train,y_train)\n",
    "\n",
    "    # rótulos de predição para X_test\n",
    "    y_pred=clf1.predict(X_test)\n",
    "\n",
    "    #Metricas\n",
    "    \"\"\"\n",
    "    tn = Verdadeiro Negativo uma previsão correta prevista como benigno\n",
    "\n",
    "    fp = Falso Positivo um falso alarme um benigno previsto como malicioso\n",
    "\n",
    "    tp = Verdadeiro Positivo uma previsão correta (malicioso)\n",
    "\n",
    "    fn = Falso Negativo um rótulo malicioso previsto como benigno\n",
    "\n",
    "    \"\"\"\n",
    "\n",
    "    tn, fp, fn, tp = confusion_matrix(y_test, y_pred).ravel()\n",
    "    elapsed = timeit.default_timer() - start_time\n",
    "\n",
    "    print('RF_113',elapsed, file=arquivo)\n",
    "    print('____________________RandomForest 113 Permissões__________________')\n",
    "    print('Treino',  y_train.shape)\n",
    "    print('Teste',  y_test.shape)\n",
    "    print('__________________________________________________')\n",
    "    print(\"TN = \",tn)\n",
    "    print(\"TP = \",tp)\n",
    "    print(\"FP = \",fp)\n",
    "    print(\"FN = \",fn)\n",
    "    print('__________________________________________________')\n",
    "    print(classification_report(y_test, y_pred))"
   ]
  },
  {
   "cell_type": "code",
   "execution_count": 13,
   "metadata": {
    "scrolled": true
   },
   "outputs": [
    {
     "data": {
      "image/png": "[encoded data removed]",
      "text/plain": [
       "<Figure size 432x288 with 2 Axes>"
      ]
     },
     "metadata": {
      "needs_background": "light"
     },
     "output_type": "display_data"
    }
   ],
   "source": [
    "   \n",
    "matriz_all_perm = confusion_matrix(y_test, y_pred) \n",
    "\n",
    "ax= plt.subplot()\n",
    "sns.heatmap(matriz_all_perm, annot=True, fmt='g', ax=ax); \n",
    "ax.set_xlabel('Classe Prevista');ax.set_ylabel('Classe Rela'); \n",
    "ax.set_title('Matriz de confusão'); \n",
    "ax.xaxis.set_ticklabels(['Benignos', 'Malwares']); ax.yaxis.set_ticklabels(['Benignos','Malwares']);\n",
    "plt.savefig(os.path.join('datasets/resultados/Matriz_all_PER2.png'), dpi=300, format='png', bbox_inches='tight')"
   ]
  },
  {
   "cell_type": "markdown",
   "metadata": {},
   "source": [
    "##  SigPID 22 permissões"
   ]
  },
  {
   "cell_type": "code",
   "execution_count": 16,
   "metadata": {
    "scrolled": true
   },
   "outputs": [
    {
     "name": "stdout",
     "output_type": "stream",
     "text": [
      "____________________RandomForest SigPID 22 Permissões__________________\n",
      "Treino (7367,)\n",
      "Teste (4511,)\n",
      "__________________________________________________\n",
      "TN =  2779\n",
      "TP =  1394\n",
      "FP =  64\n",
      "FN =  274\n",
      "__________________________________________________\n",
      "              precision    recall  f1-score   support\n",
      "\n",
      "           0       0.91      0.98      0.94      2843\n",
      "           1       0.96      0.84      0.89      1668\n",
      "\n",
      "    accuracy                           0.93      4511\n",
      "   macro avg       0.93      0.91      0.92      4511\n",
      "weighted avg       0.93      0.93      0.92      4511\n",
      "\n"
     ]
    }
   ],
   "source": [
    "with open('datasets/resultados/temposRF.txt', 'a') as arquivo:\n",
    "    start_time = timeit.default_timer()\n",
    "    #state = np.random.randint(100)\n",
    "    Y = dataset_sigpid['class']\n",
    "    X = dataset_sigpid.drop(['class'], axis=1)\n",
    "    # dividir entre conjuntos de treino e teste\n",
    "    X_train, X_test, y_train, y_test = train_test_split(X, Y, stratify=Y, test_size=0.3,random_state=1)\n",
    "\n",
    "    X_train, X_val, y_train, y_val = train_test_split(X_train, y_train, test_size=0.3, random_state=1)\n",
    "    #iniciar o classificador\n",
    "    RandomForest =RandomForestClassifier()\n",
    "    #treinamento\n",
    "    clf1.fit(X_train,y_train)\n",
    "\n",
    "    # rótulos de predição para X_test\n",
    "    sigpid_predic=clf1.predict(X_test)\n",
    "\n",
    "    #Metricas\n",
    "    \"\"\"\n",
    "    tn = Verdadeiro Negativo uma previsão correta prevista como benigno\n",
    "\n",
    "    fp = Falso Positivo um falso alarme um benigno previsto como malicioso\n",
    "\n",
    "    tp = Verdadeiro Positivo uma previsão correta (malicioso)\n",
    "\n",
    "    fn = Falso Negativo um rótulo malicioso previsto como benigno\n",
    "\n",
    "    \"\"\"\n",
    "\n",
    "    tn, fp, fn, tp = confusion_matrix(y_test, sigpid_predic).ravel()\n",
    "    elapsed = timeit.default_timer() - start_time\n",
    "\n",
    "    print('RF_SigPID',elapsed, file=arquivo)\n",
    "    print('____________________RandomForest SigPID 22 Permissões__________________')\n",
    "    print('Treino',  y_train.shape)\n",
    "    print('Teste',  y_test.shape)\n",
    "    print('__________________________________________________')\n",
    "    print(\"TN = \",tn)\n",
    "    print(\"TP = \",tp)\n",
    "    print(\"FP = \",fp)\n",
    "    print(\"FN = \",fn)\n",
    "    print('__________________________________________________')\n",
    "    print(classification_report(y_test, sigpid_predic))"
   ]
  },
  {
   "cell_type": "code",
   "execution_count": 17,
   "metadata": {},
   "outputs": [
    {
     "data": {
      "image/png": "[encoded data removed]",
      "text/plain": [
       "<Figure size 432x288 with 2 Axes>"
      ]
     },
     "metadata": {
      "needs_background": "light"
     },
     "output_type": "display_data"
    }
   ],
   "source": [
    "   \n",
    "confusion = confusion_matrix(y_test, sigpid_predic) \n",
    "\n",
    "ax= plt.subplot()\n",
    "sns.heatmap(confusion, annot=True, fmt='g', ax=ax); \n",
    "ax.set_xlabel('Previstos');ax.set_ylabel('verdadeiros'); \n",
    "ax.set_title('Matriz de confusão'); \n",
    "ax.xaxis.set_ticklabels(['Benignos', 'Malwares']); ax.yaxis.set_ticklabels(['Benignos','Malwares']);\n",
    "plt.savefig(os.path.join('datasets/resultados/Matriz_SigPID_PER.png'), dpi=300, format='png', bbox_inches='tight')"
   ]
  },
  {
   "cell_type": "markdown",
   "metadata": {},
   "source": [
    "##  Perigossas da Google 22 permissões"
   ]
  },
  {
   "cell_type": "code",
   "execution_count": 19,
   "metadata": {},
   "outputs": [
    {
     "name": "stdout",
     "output_type": "stream",
     "text": [
      "____________________RandomForest Perigossas da Google 22 Permissões__________________\n",
      "Treino (7367,)\n",
      "Teste (4511,)\n",
      "__________________________________________________\n",
      "TN =  2546\n",
      "TP =  1457\n",
      "FP =  297\n",
      "FN =  211\n",
      "__________________________________________________\n",
      "              precision    recall  f1-score   support\n",
      "\n",
      "           0       0.92      0.90      0.91      2843\n",
      "           1       0.83      0.87      0.85      1668\n",
      "\n",
      "    accuracy                           0.89      4511\n",
      "   macro avg       0.88      0.88      0.88      4511\n",
      "weighted avg       0.89      0.89      0.89      4511\n",
      "\n"
     ]
    }
   ],
   "source": [
    "with open('datasets/resultados/temposRF.txt', 'a') as arquivo:\n",
    "    start_time = timeit.default_timer()\n",
    "    #state = np.random.randint(100)\n",
    "    Y = dataset_per_Perigosas['class']\n",
    "    X = dataset_per_Perigosas.drop(['class'], axis=1)\n",
    "    # dividir entre conjuntos de treino e teste\n",
    "    X_train, X_test, y_train, y_test = train_test_split(X, Y, stratify=Y, test_size=0.3,random_state=1)\n",
    "\n",
    "    X_train, X_val, y_train, y_val = train_test_split(X_train, y_train, test_size=0.3, random_state=1)\n",
    "    #iniciar o classificador\n",
    "    RandomForest = RandomForestClassifier()\n",
    "    #treinamento\n",
    "    clf1.fit(X_train,y_train)\n",
    "\n",
    "    # rótulos de predição para X_test\n",
    "    perigosas_predic=clf1.predict(X_test)\n",
    "\n",
    "    #Metricas\n",
    "    \"\"\"\n",
    "    tn = Verdadeiro Negativo uma previsão correta prevista como benigno\n",
    "\n",
    "    fp = Falso Positivo um falso alarme um benigno previsto como malicioso\n",
    "\n",
    "    tp = Verdadeiro Positivo uma previsão correta (malicioso)\n",
    "\n",
    "    fn = Falso Negativo um rótulo malicioso previsto como benigno\n",
    "\n",
    "    \"\"\"\n",
    "\n",
    "    tn, fp, fn, tp = confusion_matrix(y_test, perigosas_predic).ravel()\n",
    "    elapsed = timeit.default_timer() - start_time\n",
    "\n",
    "    print('RF_Perigossas',elapsed, file=arquivo)\n",
    "    print('____________________RandomForest Perigossas da Google 22 Permissões__________________')\n",
    "    print('Treino',  y_train.shape)\n",
    "    print('Teste',  y_test.shape)\n",
    "    print('__________________________________________________')\n",
    "    print(\"TN = \",tn)\n",
    "    print(\"TP = \",tp)\n",
    "    print(\"FP = \",fp)\n",
    "    print(\"FN = \",fn)\n",
    "    print('__________________________________________________')\n",
    "    print(classification_report(y_test, perigosas_predic))"
   ]
  },
  {
   "cell_type": "code",
   "execution_count": 20,
   "metadata": {},
   "outputs": [
    {
     "data": {
      "image/png": "[encoded data removed]",
      "text/plain": [
       "<Figure size 432x288 with 2 Axes>"
      ]
     },
     "metadata": {
      "needs_background": "light"
     },
     "output_type": "display_data"
    }
   ],
   "source": [
    "   \n",
    "confusion = confusion_matrix(y_test, perigosas_predic) \n",
    "\n",
    "ax= plt.subplot()\n",
    "sns.heatmap(confusion, annot=True, fmt='g', ax=ax); \n",
    "ax.set_xlabel('Previstos');ax.set_ylabel('verdadeiros'); \n",
    "ax.set_title('Matriz de confusão'); \n",
    "ax.xaxis.set_ticklabels(['Benignos', 'Malwares']); ax.yaxis.set_ticklabels(['Benignos','Malwares']);\n",
    "plt.savefig(os.path.join('datasets/resultados/Matriz_Perigosas_PER.png'), dpi=300, format='png', bbox_inches='tight')"
   ]
  },
  {
   "cell_type": "markdown",
   "metadata": {},
   "source": [
    "##  Recorrentes 32 permissões"
   ]
  },
  {
   "cell_type": "code",
   "execution_count": 21,
   "metadata": {},
   "outputs": [
    {
     "name": "stdout",
     "output_type": "stream",
     "text": [
      "____________________RandomForest Recorrentes 32 Permissões__________________\n",
      "número de permissões 32\n",
      "Treino (7367,)\n",
      "Teste (4511,)\n",
      "__________________________________________________\n",
      "TN =  2770\n",
      "TP =  1497\n",
      "FP =  73\n",
      "FN =  171\n",
      "__________________________________________________\n",
      "              precision    recall  f1-score   support\n",
      "\n",
      "           0       0.94      0.97      0.96      2843\n",
      "           1       0.95      0.90      0.92      1668\n",
      "\n",
      "    accuracy                           0.95      4511\n",
      "   macro avg       0.95      0.94      0.94      4511\n",
      "weighted avg       0.95      0.95      0.95      4511\n",
      "\n"
     ]
    }
   ],
   "source": [
    "with open('datasets/resultados/temposRF.txt', 'a') as arquivo:\n",
    "    start_time = timeit.default_timer()\n",
    "    #state = np.random.randint(100)\n",
    "    Y = dataset_per_Recorrentes['class']\n",
    "    X = dataset_per_Recorrentes.drop(['class'], axis=1)\n",
    "    # dividir entre conjuntos de treino e teste\n",
    "    X_train, X_test, y_train, y_test = train_test_split(X, Y, stratify=Y, test_size=0.3,random_state=1)\n",
    "\n",
    "    X_train, X_val, y_train, y_val = train_test_split(X_train, y_train, test_size=0.3, random_state=1)\n",
    "    #iniciar o classificador\n",
    "    RandomForest = RandomForestClassifier(n_estimators=100,max_depth=50)\n",
    "    #treinamento\n",
    "    clf1.fit(X_train,y_train)\n",
    "\n",
    "    # rótulos de predição para X_test\n",
    "    recorrentes_predic=clf1.predict(X_test)\n",
    "\n",
    "    #Metricas\n",
    "    \"\"\"\n",
    "    tn = Verdadeiro Negativo uma previsão correta prevista como benigno\n",
    "\n",
    "    fp = Falso Positivo um falso alarme um benigno previsto como malicioso\n",
    "\n",
    "    tp = Verdadeiro Positivo uma previsão correta (malicioso)\n",
    "\n",
    "    fn = Falso Negativo um rótulo malicioso previsto como benigno\n",
    "\n",
    "    \"\"\"\n",
    "\n",
    "    tn, fp, fn, tp = confusion_matrix(y_test, recorrentes_predic).ravel()\n",
    "    elapsed = timeit.default_timer() - start_time\n",
    "\n",
    "    print('RF_Recorrentes',elapsed, file=arquivo)\n",
    "    print('____________________RandomForest Recorrentes 32 Permissões__________________')\n",
    "    print('número de permissões',len(dataset_per_Recorrentes.columns)-1)\n",
    "    print('Treino',  y_train.shape)\n",
    "    print('Teste',  y_test.shape)\n",
    "    print('__________________________________________________')\n",
    "    print(\"TN = \",tn)\n",
    "    print(\"TP = \",tp)\n",
    "    print(\"FP = \",fp)\n",
    "    print(\"FN = \",fn)\n",
    "    print('__________________________________________________')\n",
    "    print(classification_report(y_test, recorrentes_predic))"
   ]
  },
  {
   "cell_type": "code",
   "execution_count": 22,
   "metadata": {},
   "outputs": [
    {
     "data": {
      "image/png": "[encoded data removed]",
      "text/plain": [
       "<Figure size 432x288 with 2 Axes>"
      ]
     },
     "metadata": {
      "needs_background": "light"
     },
     "output_type": "display_data"
    }
   ],
   "source": [
    "   \n",
    "confusion = confusion_matrix(y_test, recorrentes_predic) \n",
    "\n",
    "ax= plt.subplot()\n",
    "sns.heatmap(confusion, annot=True, fmt='g', ax=ax); \n",
    "ax.set_xlabel('Previstos');ax.set_ylabel('verdadeiros'); \n",
    "ax.set_title('Matriz de confusão'); \n",
    "ax.xaxis.set_ticklabels(['Benignos', 'Malwares']); ax.yaxis.set_ticklabels(['Benignos','Malwares']);\n",
    "plt.savefig(os.path.join('datasets/resultados/Matriz_Recorrentes_PER.png'), dpi=300, format='png', bbox_inches='tight')"
   ]
  },
  {
   "cell_type": "markdown",
   "metadata": {},
   "source": [
    "**Runtime**"
   ]
  },
  {
   "cell_type": "code",
   "execution_count": 23,
   "metadata": {},
   "outputs": [
    {
     "data": {
      "image/png": "[encoded data removed]",
      "text/plain": [
       "<Figure size 432x288 with 1 Axes>"
      ]
     },
     "metadata": {
      "needs_background": "light"
     },
     "output_type": "display_data"
    }
   ],
   "source": [
    "import pylab as pl\n",
    "\n",
    "dados = []\n",
    "valores = []\n",
    "\n",
    "try :\n",
    "    with open('datasets/resultados/temposRF.txt', 'r') as openedFile :\n",
    "        for line in openedFile :\n",
    "            tab = line.split()\n",
    "            dados.append(str(tab[0]))\n",
    "            valores.append(float(tab[1]))\n",
    "except IOError :\n",
    "    print(\"IOError!\")\n",
    "\n",
    "x = dados\n",
    "y = valores\n",
    "\n",
    "width = 0.35  # the width of the bars\n",
    "\n",
    "fig, ax = plt.subplots()\n",
    "#rects1 = ax.bar(x, y, width)\n",
    "rects2 = ax.bar(x , y, width)\n",
    "\n",
    "# Add some text for labels, title and custom x-axis tick labels, etc.\n",
    "ax.set_ylabel('Tempo')\n",
    "ax.set_title('Tempo de Execução RandonForest')\n",
    "fig.tight_layout()\n",
    "fig.savefig(os.path.join('datasets/resultados/Execucao_RF.png'), dpi=300, format='png', bbox_inches='tight')"
   ]
  },
  {
   "cell_type": "code",
   "execution_count": 24,
   "metadata": {},
   "outputs": [
    {
     "name": "stdout",
     "output_type": "stream",
     "text": [
      "Scikit-learn versão 0.24.1.\n",
      "3.8.8\n",
      "C:\\Users\\joner\\Anaconda3\\python.exe\n",
      "3.8.8 (default, Apr 13 2021, 15:08:03) [MSC v.1916 64 bit (AMD64)]\n",
      "sys.version_info(major=3, minor=8, micro=8, releaselevel='final', serial=0)\n"
     ]
    }
   ],
   "source": [
    "print('Scikit-learn versão {}.'.format(sklearn.__version__))\n",
    "from platform import python_version\n",
    "import sys\n",
    "print(python_version())\n",
    "print(sys.executable)\n",
    "print(sys.version)\n",
    "print(sys.version_info)\n"
   ]
  },
  {
   "cell_type": "code",
   "execution_count": null,
   "metadata": {},
   "outputs": [],
   "source": []
  }
 ],
 "metadata": {
  "kernelspec": {
   "display_name": "Python 3",
   "language": "python",
   "name": "python3"
  },
  "language_info": {
   "codemirror_mode": {
    "name": "ipython",
    "version": 3
   },
   "file_extension": ".py",
   "mimetype": "text/x-python",
   "name": "python",
   "nbconvert_exporter": "python",
   "pygments_lexer": "ipython3",
   "version": "3.8.8"
  }
 },
 "nbformat": 4,
 "nbformat_minor": 4
}
