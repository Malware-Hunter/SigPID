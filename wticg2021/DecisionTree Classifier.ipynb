{
 "cells": [
  {
   "cell_type": "markdown",
   "metadata": {},
   "source": [
    "##  Decision Tree\n",
    "**Este estudo utilizas como baseline as permissões contidas no dataset Drebin_215**"
   ]
  },
  {
   "cell_type": "code",
   "execution_count": null,
   "metadata": {},
   "outputs": [],
   "source": []
  },
  {
   "cell_type": "code",
   "execution_count": 1,
   "metadata": {},
   "outputs": [],
   "source": [
    "import sklearn\n",
    "import timeit\n",
    "import pickle\n",
    "import seaborn as sns\n",
    "from matplotlib import pyplot as plt\n",
    "from sklearn.tree import DecisionTreeClassifier \n",
    "from sklearn.datasets import make_regression, load_boston\n",
    "from sklearn.preprocessing import StandardScaler\n",
    "from sklearn.neural_network import MLPClassifier\n",
    "from sklearn.model_selection import train_test_split, GridSearchCV\n",
    "from sklearn.metrics import classification_report, confusion_matrix,plot_confusion_matrix\n",
    "from sklearn.metrics import mean_absolute_error\n",
    "from sklearn.preprocessing import OneHotEncoder, LabelEncoder\n",
    "from sklearn.feature_selection import f_regression, f_classif, SelectKBest, VarianceThreshold, mutual_info_regression, SelectPercentile, mutual_info_classif\n",
    "from sklearn.linear_model import Lasso, Ridge\n",
    "from sklearn.model_selection import train_test_split\n",
    "import pandas as pd\n",
    "import numpy  as np\n",
    "import os, sys, stat"
   ]
  },
  {
   "cell_type": "markdown",
   "metadata": {},
   "source": [
    "## Load the datasets"
   ]
  },
  {
   "cell_type": "markdown",
   "metadata": {},
   "source": [
    "**Carrega o dataset Drebin filtrado pelas permissões.**"
   ]
  },
  {
   "cell_type": "code",
   "execution_count": 3,
   "metadata": {},
   "outputs": [],
   "source": [
    "dataset_df = pd.read_csv('datasets/DrebinDatasetPermissoes.csv', encoding = 'utf8')"
   ]
  },
  {
   "cell_type": "markdown",
   "metadata": {},
   "source": [
    "**Carrega o dataset SigPID.**"
   ]
  },
  {
   "cell_type": "code",
   "execution_count": 4,
   "metadata": {},
   "outputs": [],
   "source": [
    "dataset_sigpid = pd.read_csv(\"datasets/SigPID.csv\", encoding = 'utf8')"
   ]
  },
  {
   "cell_type": "markdown",
   "metadata": {},
   "source": [
    "**Carrega o dataset Perigosas da Google.**"
   ]
  },
  {
   "cell_type": "code",
   "execution_count": 5,
   "metadata": {},
   "outputs": [],
   "source": [
    "dataset_per_Perigosas = pd.read_csv(\"datasets/PerigosasGoogle.csv\", encoding = 'utf8')"
   ]
  },
  {
   "cell_type": "markdown",
   "metadata": {},
   "source": [
    "**Carrega o dataset intersecção de permissões recorrentes.**"
   ]
  },
  {
   "cell_type": "code",
   "execution_count": 6,
   "metadata": {},
   "outputs": [],
   "source": [
    "dataset_per_Recorrentes = pd.read_csv(\"datasets/PermissoesRecorrentes.csv\", encoding = 'utf8')"
   ]
  },
  {
   "cell_type": "markdown",
   "metadata": {},
   "source": [
    "##  Baseline 113 permissões"
   ]
  },
  {
   "cell_type": "code",
   "execution_count": 7,
   "metadata": {
    "scrolled": true
   },
   "outputs": [
    {
     "name": "stdout",
     "output_type": "stream",
     "text": [
      "____________________DecisionTree 113 Permissões__________________\n",
      "Treino (7367,)\n",
      "Teste (4511,)\n",
      "__________________________________________________\n",
      "TN =  2726\n",
      "TP =  1524\n",
      "FP =  112\n",
      "FN =  149\n",
      "__________________________________________________\n",
      "              precision    recall  f1-score   support\n",
      "\n",
      "           0       0.95      0.96      0.95      2838\n",
      "           1       0.93      0.91      0.92      1673\n",
      "\n",
      "    accuracy                           0.94      4511\n",
      "   macro avg       0.94      0.94      0.94      4511\n",
      "weighted avg       0.94      0.94      0.94      4511\n",
      "\n"
     ]
    }
   ],
   "source": [
    "with open('datasets/resultados/temposDT.txt', 'a') as arquivo:\n",
    "    start_time = timeit.default_timer()\n",
    "\n",
    "    #state = np.random.randint(100)\n",
    "    Y = dataset_df['class']\n",
    "    X = dataset_df.drop(['class'], axis=1)\n",
    "    # dividir entre conjuntos de treino e teste\n",
    "    X_train, X_test, y_train, y_test = train_test_split(X, Y, test_size=0.3,random_state=1)\n",
    "\n",
    "    X_train, X_val, y_train, y_val = train_test_split(X_train, y_train, test_size=0.3, random_state=1)\n",
    "    #iniciar o classificador\n",
    "    clf1 = DecisionTreeClassifier()\n",
    "    #treinamento\n",
    "    clf1.fit(X_train,y_train)\n",
    "\n",
    "    # rótulos de predição para X_test\n",
    "    y_pred=clf1.predict(X_test)\n",
    "    \n",
    "    \n",
    "\n",
    "    #Metricas\n",
    "    \"\"\"\n",
    "    tn = Verdadeiro Negativo uma previsão correta prevista como benigno\n",
    "\n",
    "    fp = Falso Positivo um falso alarme um benigno previsto como malicioso\n",
    "\n",
    "    tp = Verdadeiro Positivo uma previsão correta (malicioso)\n",
    "\n",
    "    fn = Falso Negativo um rótulo malicioso previsto como benigno\n",
    "\n",
    "    \"\"\"\n",
    "\n",
    "    tn, fp, fn, tp = confusion_matrix(y_test, y_pred).ravel()\n",
    "    elapsed = timeit.default_timer() - start_time\n",
    "\n",
    "    print('DT_113',elapsed, file=arquivo)\n",
    "    print('____________________DecisionTree 113 Permissões__________________')\n",
    "    print('Treino',  y_train.shape)\n",
    "    print('Teste',  y_test.shape)\n",
    "    print('__________________________________________________')\n",
    "    print(\"TN = \",tn)\n",
    "    print(\"TP = \",tp)\n",
    "    print(\"FP = \",fp)\n",
    "    print(\"FN = \",fn)\n",
    "    print('__________________________________________________')\n",
    "    print(classification_report(y_test, y_pred))"
   ]
  },
  {
   "cell_type": "code",
   "execution_count": 10,
   "metadata": {},
   "outputs": [
    {
     "data": {
      "image/png": "[encoded data removed]",
      "text/plain": [
       "<Figure size 432x288 with 2 Axes>"
      ]
     },
     "metadata": {
      "needs_background": "light"
     },
     "output_type": "display_data"
    }
   ],
   "source": [
    "   \n",
    "matriz_all_perm = confusion_matrix(y_test, y_pred) \n",
    "\n",
    "ax= plt.subplot()\n",
    "sns.heatmap(matriz_all_perm, annot=True, fmt='g', ax=ax); \n",
    "ax.set_xlabel('Previstos');ax.set_ylabel('verdadeiros'); \n",
    "ax.set_title('Matriz de confusão'); \n",
    "ax.xaxis.set_ticklabels(['Benignos', 'Malwares']); ax.yaxis.set_ticklabels(['Benignos','Malwares']);\n",
    "plt.savefig(os.path.join('datasets/resultados/Matriz_all_PER2.png'), dpi=300, format='png', bbox_inches='tight')"
   ]
  },
  {
   "cell_type": "markdown",
   "metadata": {},
   "source": [
    "##  SigPID 22 permissões"
   ]
  },
  {
   "cell_type": "code",
   "execution_count": 11,
   "metadata": {
    "scrolled": true
   },
   "outputs": [
    {
     "name": "stdout",
     "output_type": "stream",
     "text": [
      "____________________RandomForest SigPID 22 Permissões__________________\n",
      "Treino (7367,)\n",
      "Teste (4511,)\n",
      "__________________________________________________\n",
      "TN =  2765\n",
      "TP =  1384\n",
      "FP =  73\n",
      "FN =  289\n",
      "__________________________________________________\n",
      "              precision    recall  f1-score   support\n",
      "\n",
      "           0       0.91      0.97      0.94      2838\n",
      "           1       0.95      0.83      0.88      1673\n",
      "\n",
      "    accuracy                           0.92      4511\n",
      "   macro avg       0.93      0.90      0.91      4511\n",
      "weighted avg       0.92      0.92      0.92      4511\n",
      "\n"
     ]
    }
   ],
   "source": [
    "with open('datasets/resultados/temposDT.txt', 'a') as arquivo:\n",
    "    start_time = timeit.default_timer()\n",
    "    #state = np.random.randint(100)\n",
    "    Y = dataset_sigpid['class']\n",
    "    X = dataset_sigpid.drop(['class'], axis=1)\n",
    "    # dividir entre conjuntos de treino e teste\n",
    "    X_train, X_test, y_train, y_test = train_test_split(X, Y, test_size=0.3,random_state=1)\n",
    "\n",
    "    X_train, X_val, y_train, y_val = train_test_split(X_train, y_train, test_size=0.3, random_state=1)\n",
    "    #iniciar o classificador\n",
    "    DecisionTree = DecisionTreeClassifier()\n",
    "    #treinamento\n",
    "    clf1.fit(X_train,y_train)\n",
    "\n",
    "    # rótulos de predição para X_test\n",
    "    sigpid_predic=clf1.predict(X_test)\n",
    "\n",
    "    #Metricas\n",
    "    \"\"\"\n",
    "    tn = Verdadeiro Negativo uma previsão correta prevista como benigno\n",
    "\n",
    "    fp = Falso Positivo um falso alarme um benigno previsto como malicioso\n",
    "\n",
    "    tp = Verdadeiro Positivo uma previsão correta (malicioso)\n",
    "\n",
    "    fn = Falso Negativo um rótulo malicioso previsto como benigno\n",
    "\n",
    "    \"\"\"\n",
    "\n",
    "    tn, fp, fn, tp = confusion_matrix(y_test, sigpid_predic).ravel()\n",
    "    elapsed = timeit.default_timer() - start_time\n",
    "\n",
    "    print('DT_SigPID',elapsed, file=arquivo)\n",
    "    print('____________________RandomForest SigPID 22 Permissões__________________')\n",
    "    print('Treino',  y_train.shape)\n",
    "    print('Teste',  y_test.shape)\n",
    "    print('__________________________________________________')\n",
    "    print(\"TN = \",tn)\n",
    "    print(\"TP = \",tp)\n",
    "    print(\"FP = \",fp)\n",
    "    print(\"FN = \",fn)\n",
    "    print('__________________________________________________')\n",
    "    print(classification_report(y_test, sigpid_predic))"
   ]
  },
  {
   "cell_type": "code",
   "execution_count": 12,
   "metadata": {},
   "outputs": [
    {
     "data": {
      "image/png": "[encoded data removed]",
      "text/plain": [
       "<Figure size 432x288 with 2 Axes>"
      ]
     },
     "metadata": {
      "needs_background": "light"
     },
     "output_type": "display_data"
    }
   ],
   "source": [
    "   \n",
    "confusion = confusion_matrix(y_test, sigpid_predic) \n",
    "\n",
    "ax= plt.subplot()\n",
    "sns.heatmap(confusion, annot=True, fmt='g', ax=ax); \n",
    "ax.set_xlabel('Previstos');ax.set_ylabel('verdadeiros'); \n",
    "ax.set_title('Matriz de confusão'); \n",
    "ax.xaxis.set_ticklabels(['Benignos', 'Malwares']); ax.yaxis.set_ticklabels(['Benignos','Malwares']);\n",
    "plt.savefig(os.path.join('datasets/resultados/Matriz_SigPID_PER.png'), dpi=300, format='png', bbox_inches='tight')"
   ]
  },
  {
   "cell_type": "markdown",
   "metadata": {},
   "source": [
    "##  Perigossas da Google 22 permissões"
   ]
  },
  {
   "cell_type": "code",
   "execution_count": 14,
   "metadata": {},
   "outputs": [
    {
     "name": "stdout",
     "output_type": "stream",
     "text": [
      "____________________RandomForest Perigossas da Google 22 Permissões__________________\n",
      "Treino (7367,)\n",
      "Teste (4511,)\n",
      "__________________________________________________\n",
      "TN =  2730\n",
      "TP =  1230\n",
      "FP =  108\n",
      "FN =  443\n",
      "__________________________________________________\n",
      "              precision    recall  f1-score   support\n",
      "\n",
      "           0       0.86      0.96      0.91      2838\n",
      "           1       0.92      0.74      0.82      1673\n",
      "\n",
      "    accuracy                           0.88      4511\n",
      "   macro avg       0.89      0.85      0.86      4511\n",
      "weighted avg       0.88      0.88      0.87      4511\n",
      "\n"
     ]
    }
   ],
   "source": [
    "with open('datasets/resultados/temposDT.txt', 'a') as arquivo:\n",
    "    start_time = timeit.default_timer()\n",
    "    #state = np.random.randint(100)\n",
    "    Y = dataset_per_Perigosas['class']\n",
    "    X = dataset_per_Perigosas.drop(['class'], axis=1)\n",
    "    # dividir entre conjuntos de treino e teste\n",
    "    X_train, X_test, y_train, y_test = train_test_split(X, Y, test_size=0.3,random_state=1)\n",
    "\n",
    "    X_train, X_val, y_train, y_val = train_test_split(X_train, y_train, test_size=0.3, random_state=1)\n",
    "    #iniciar o classificador\n",
    "    DecisionTree = DecisionTreeClassifier()\n",
    "    #treinamento\n",
    "    clf1.fit(X_train,y_train)\n",
    "\n",
    "    # rótulos de predição para X_test\n",
    "    perigosas_predic=clf1.predict(X_test)\n",
    "\n",
    "    #Metricas\n",
    "    \"\"\"\n",
    "    tn = Verdadeiro Negativo uma previsão correta prevista como benigno\n",
    "\n",
    "    fp = Falso Positivo um falso alarme um benigno previsto como malicioso\n",
    "\n",
    "    tp = Verdadeiro Positivo uma previsão correta (malicioso)\n",
    "\n",
    "    fn = Falso Negativo um rótulo malicioso previsto como benigno\n",
    "\n",
    "    \"\"\"\n",
    "\n",
    "    tn, fp, fn, tp = confusion_matrix(y_test, perigosas_predic).ravel()\n",
    "    elapsed = timeit.default_timer() - start_time\n",
    "\n",
    "    print('DT_Perigossas',elapsed, file=arquivo)\n",
    "    print('____________________RandomForest Perigossas da Google 22 Permissões__________________')\n",
    "    print('Treino',  y_train.shape)\n",
    "    print('Teste',  y_test.shape)\n",
    "    print('__________________________________________________')\n",
    "    print(\"TN = \",tn)\n",
    "    print(\"TP = \",tp)\n",
    "    print(\"FP = \",fp)\n",
    "    print(\"FN = \",fn)\n",
    "    print('__________________________________________________')\n",
    "    print(classification_report(y_test, perigosas_predic))"
   ]
  },
  {
   "cell_type": "code",
   "execution_count": 16,
   "metadata": {},
   "outputs": [
    {
     "data": {
      "image/png": "[encoded data removed]",
      "text/plain": [
       "<Figure size 432x288 with 2 Axes>"
      ]
     },
     "metadata": {
      "needs_background": "light"
     },
     "output_type": "display_data"
    }
   ],
   "source": [
    "   \n",
    "confusion = confusion_matrix(y_test, perigosas_predic) \n",
    "\n",
    "ax= plt.subplot()\n",
    "sns.heatmap(confusion, annot=True, fmt='g', ax=ax); \n",
    "ax.set_xlabel('Previstos');ax.set_ylabel('verdadeiros'); \n",
    "ax.set_title('Matriz de confusão'); \n",
    "ax.xaxis.set_ticklabels(['Benignos', 'Malwares']); ax.yaxis.set_ticklabels(['Benignos','Malwares']);\n",
    "plt.savefig(os.path.join('datasets/resultados/Matriz_Perigosas_PER.png'), dpi=300, format='png', bbox_inches='tight')"
   ]
  },
  {
   "cell_type": "markdown",
   "metadata": {},
   "source": [
    "##   Recorrentes 32 permissões"
   ]
  },
  {
   "cell_type": "code",
   "execution_count": 20,
   "metadata": {},
   "outputs": [
    {
     "name": "stdout",
     "output_type": "stream",
     "text": [
      "____________________RandomForest Recorrentes 32 Permissões__________________\n",
      "Treino (7367,)\n",
      "Teste (4511,)\n",
      "__________________________________________________\n",
      "TN =  2738\n",
      "TP =  1474\n",
      "FP =  100\n",
      "FN =  199\n",
      "__________________________________________________\n",
      "              precision    recall  f1-score   support\n",
      "\n",
      "           0       0.93      0.96      0.95      2838\n",
      "           1       0.94      0.88      0.91      1673\n",
      "\n",
      "    accuracy                           0.93      4511\n",
      "   macro avg       0.93      0.92      0.93      4511\n",
      "weighted avg       0.93      0.93      0.93      4511\n",
      "\n"
     ]
    }
   ],
   "source": [
    "with open('datasets/resultados/temposDT.txt', 'a') as arquivo:\n",
    "    start_time = timeit.default_timer()\n",
    "    #state = np.random.randint(100)\n",
    "    Y = dataset_per_Recorrentes['class']\n",
    "    X = dataset_per_Recorrentes.drop(['class'], axis=1)\n",
    "    # dividir entre conjuntos de treino e teste\n",
    "    X_train, X_test, y_train, y_test = train_test_split(X, Y, test_size=0.3,random_state=1)\n",
    "\n",
    "    X_train, X_val, y_train, y_val = train_test_split(X_train, y_train, test_size=0.3, random_state=1)\n",
    "    #iniciar o classificador\n",
    "    RandomForest = DecisionTreeClassifier()\n",
    "    #treinamento\n",
    "    clf1.fit(X_train,y_train)\n",
    "\n",
    "    # rótulos de predição para X_test\n",
    "    recorrentes_predic=clf1.predict(X_test)\n",
    "\n",
    "    #Metricas\n",
    "    \"\"\"\n",
    "    tn = Verdadeiro Negativo uma previsão correta prevista como benigno\n",
    "\n",
    "    fp = Falso Positivo um falso alarme um benigno previsto como malicioso\n",
    "\n",
    "    tp = Verdadeiro Positivo uma previsão correta (malicioso)\n",
    "\n",
    "    fn = Falso Negativo um rótulo malicioso previsto como benigno\n",
    "\n",
    "    \"\"\"\n",
    "\n",
    "    tn, fp, fn, tp = confusion_matrix(y_test, recorrentes_predic).ravel()\n",
    "    elapsed = timeit.default_timer() - start_time\n",
    "\n",
    "    print('DT_Recorrentes',elapsed, file=arquivo)\n",
    "    print('____________________RandomForest Recorrentes 32 Permissões__________________')\n",
    "    print('Treino',  y_train.shape)\n",
    "    print('Teste',  y_test.shape)\n",
    "    print('__________________________________________________')\n",
    "    print(\"TN = \",tn)\n",
    "    print(\"TP = \",tp)\n",
    "    print(\"FP = \",fp)\n",
    "    print(\"FN = \",fn)\n",
    "    print('__________________________________________________')\n",
    "    print(classification_report(y_test, recorrentes_predic))"
   ]
  },
  {
   "cell_type": "code",
   "execution_count": 18,
   "metadata": {},
   "outputs": [
    {
     "data": {
      "image/png": "[encoded data removed]",
      "text/plain": [
       "<Figure size 432x288 with 2 Axes>"
      ]
     },
     "metadata": {
      "needs_background": "light"
     },
     "output_type": "display_data"
    }
   ],
   "source": [
    "   \n",
    "confusion = confusion_matrix(y_test, recorrentes_predic) \n",
    "\n",
    "ax= plt.subplot()\n",
    "sns.heatmap(confusion, annot=True, fmt='g', ax=ax); \n",
    "ax.set_xlabel('Previstos');ax.set_ylabel('verdadeiros'); \n",
    "ax.set_title('Matriz de confusão'); \n",
    "ax.xaxis.set_ticklabels(['Benignos', 'Malwares']); ax.yaxis.set_ticklabels(['Benignos','Malwares']);\n",
    "plt.savefig(os.path.join('datasets/resultados/Matriz_Recorrentes_PER.png'), dpi=300, format='png', bbox_inches='tight')"
   ]
  },
  {
   "cell_type": "code",
   "execution_count": 19,
   "metadata": {},
   "outputs": [
    {
     "data": {
      "image/png": "[encoded data removed]",
      "text/plain": [
       "<Figure size 432x288 with 1 Axes>"
      ]
     },
     "metadata": {
      "needs_background": "light"
     },
     "output_type": "display_data"
    }
   ],
   "source": [
    "import pylab as pl\n",
    "\n",
    "dados = []\n",
    "valores = []\n",
    "\n",
    "try :\n",
    "    with open('datasets/resultados/temposDT.txt', 'r') as openedFile :\n",
    "        for line in openedFile :\n",
    "            tab = line.split()\n",
    "            dados.append(str(tab[0]))\n",
    "            valores.append(float(tab[1]))\n",
    "except IOError :\n",
    "    print(\"IOError!\")\n",
    "\n",
    "x = dados\n",
    "y = valores\n",
    "\n",
    "width = 0.35  # the width of the bars\n",
    "\n",
    "fig, ax = plt.subplots()\n",
    "#rects1 = ax.bar(x, y, width)\n",
    "rects2 = ax.bar(x , y, width)\n",
    "\n",
    "# Add some text for labels, title and custom x-axis tick labels, etc.\n",
    "ax.set_ylabel('Tempo')\n",
    "ax.set_title('Tempo de Execução Decision Tree')\n",
    "fig.tight_layout()\n",
    "fig.savefig(os.path.join('datasets/resultados/Execucao_DT.png'), dpi=300, format='png', bbox_inches='tight')"
   ]
  },
  {
   "cell_type": "code",
   "execution_count": null,
   "metadata": {},
   "outputs": [],
   "source": []
  }
 ],
 "metadata": {
  "kernelspec": {
   "display_name": "Python 3",
   "language": "python",
   "name": "python3"
  },
  "language_info": {
   "codemirror_mode": {
    "name": "ipython",
    "version": 3
   },
   "file_extension": ".py",
   "mimetype": "text/x-python",
   "name": "python",
   "nbconvert_exporter": "python",
   "pygments_lexer": "ipython3",
   "version": "3.8.8"
  }
 },
 "nbformat": 4,
 "nbformat_minor": 4
}
