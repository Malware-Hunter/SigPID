{
 "cells": [
  {
   "cell_type": "markdown",
   "metadata": {},
   "source": [
    "## SVM\n",
    "**Este estudo utilizas como baseline as permissões contidas no dataset Drebin_215**"
   ]
  },
  {
   "cell_type": "code",
   "execution_count": null,
   "metadata": {},
   "outputs": [],
   "source": []
  },
  {
   "cell_type": "code",
   "execution_count": 1,
   "metadata": {},
   "outputs": [],
   "source": [
    "import sklearn\n",
    "import timeit\n",
    "import pickle\n",
    "import seaborn as sns\n",
    "from matplotlib import pyplot as plt\n",
    "from sklearn.metrics import classification_report, confusion_matrix,plot_confusion_matrix, plot_roc_curve\n",
    "from sklearn.model_selection import train_test_split\n",
    "import pandas as pd\n",
    "import numpy  as np\n",
    "import os, sys, stat\n",
    "import matplotlib.pyplot as plt\n",
    "from sklearn.svm import SVC\n",
    "from sklearn.metrics import plot_roc_curve\n",
    "from sklearn.datasets import load_wine\n",
    "from sklearn.model_selection import train_test_split\n",
    "import sklearn.model_selection as ms\n",
    "import sklearn.svm as svm"
   ]
  },
  {
   "cell_type": "markdown",
   "metadata": {},
   "source": [
    "## Load the datasets"
   ]
  },
  {
   "cell_type": "markdown",
   "metadata": {},
   "source": [
    "**load the baseline dataset**"
   ]
  },
  {
   "cell_type": "code",
   "execution_count": 2,
   "metadata": {},
   "outputs": [],
   "source": [
    "dataset_df = pd.read_csv('datasets/DrebinDatasetPermissoes.csv', encoding = 'utf8')"
   ]
  },
  {
   "cell_type": "markdown",
   "metadata": {},
   "source": [
    "**load the dataset SigPID**"
   ]
  },
  {
   "cell_type": "code",
   "execution_count": 3,
   "metadata": {},
   "outputs": [],
   "source": [
    "dataset_sigpid = pd.read_csv(\"datasets/SigPID.csv\", encoding = 'utf8')"
   ]
  },
  {
   "cell_type": "markdown",
   "metadata": {},
   "source": [
    "**load the dangerous permissions**"
   ]
  },
  {
   "cell_type": "code",
   "execution_count": 4,
   "metadata": {},
   "outputs": [],
   "source": [
    "dataset_per_Perigosas = pd.read_csv(\"datasets/PerigosasGoogle.csv\", encoding = 'utf8')"
   ]
  },
  {
   "cell_type": "markdown",
   "metadata": {},
   "source": [
    "**load the recurrent permissions**"
   ]
  },
  {
   "cell_type": "code",
   "execution_count": 5,
   "metadata": {},
   "outputs": [],
   "source": [
    "dataset_per_Recorrentes = pd.read_csv(\"datasets/PermissoesRecorrentes.csv\", encoding = 'utf8')"
   ]
  },
  {
   "cell_type": "markdown",
   "metadata": {},
   "source": [
    "## Baseline 113 permissões"
   ]
  },
  {
   "cell_type": "code",
   "execution_count": 7,
   "metadata": {
    "scrolled": true
   },
   "outputs": [
    {
     "name": "stdout",
     "output_type": "stream",
     "text": [
      "____________________SVM 113 Permissões__________________\n",
      "Treino (7367,)\n",
      "Teste (4511,)\n",
      "__________________________________________________\n",
      "TN =  2741\n",
      "TP =  1465\n",
      "FP =  102\n",
      "FN =  203\n",
      "__________________________________________________\n",
      "              precision    recall  f1-score   support\n",
      "\n",
      "           0       0.93      0.96      0.95      2843\n",
      "           1       0.93      0.88      0.91      1668\n",
      "\n",
      "    accuracy                           0.93      4511\n",
      "   macro avg       0.93      0.92      0.93      4511\n",
      "weighted avg       0.93      0.93      0.93      4511\n",
      "\n"
     ]
    }
   ],
   "source": [
    "with open('datasets/resultados/temposSVM.txt', 'a') as arquivo:\n",
    "    start_time = timeit.default_timer()\n",
    "\n",
    "    #state = np.random.randint(100)\n",
    "    Y = dataset_df['class']\n",
    "    X = dataset_df.drop(['class'], axis=1)\n",
    "    # dividir entre conjuntos de treino e teste\n",
    "    X_train, X_test, y_train, y_test = train_test_split(X, Y, stratify=Y, test_size=0.3,random_state=1)\n",
    "\n",
    "    X_train, X_val, y_train, y_val = train_test_split(X_train, y_train, test_size=0.3, random_state=1)\n",
    "    \n",
    "    from sklearn.svm import SVC\n",
    "    svm = SVC(kernel='linear', C=1.0, random_state=1)\n",
    "    svm.fit(X_train,y_train)\n",
    "\n",
    "    # rótulos de predição para X_test\n",
    "    y_pred=svm.predict(X_test)\n",
    "\n",
    "    #Metricas\n",
    "    \"\"\"\n",
    "    tn = Verdadeiro Negativo uma previsão correta prevista como benigno\n",
    "\n",
    "    fp = Falso Positivo um falso alarme um benigno previsto como malicioso\n",
    "\n",
    "    tp = Verdadeiro Positivo uma previsão correta (malicioso)\n",
    "\n",
    "    fn = Falso Negativo um rótulo malicioso previsto como benigno\n",
    "\n",
    "    \"\"\"\n",
    "\n",
    "    tn, fp, fn, tp = confusion_matrix(y_test, y_pred).ravel()\n",
    "    elapsed = timeit.default_timer() - start_time\n",
    "\n",
    "    print('SVM_113',elapsed, file=arquivo)\n",
    "    print('____________________SVM 113 Permissões__________________')\n",
    "    print('Treino',  y_train.shape)\n",
    "    print('Teste',  y_test.shape)\n",
    "    print('__________________________________________________')\n",
    "    print(\"TN = \",tn)\n",
    "    print(\"TP = \",tp)\n",
    "    print(\"FP = \",fp)\n",
    "    print(\"FN = \",fn)\n",
    "    print('__________________________________________________')\n",
    "    print(classification_report(y_test, y_pred))"
   ]
  },
  {
   "cell_type": "code",
   "execution_count": 7,
   "metadata": {},
   "outputs": [
    {
     "data": {
      "text/plain": [
       "{'C': 1.0,\n",
       " 'break_ties': False,\n",
       " 'cache_size': 200,\n",
       " 'class_weight': None,\n",
       " 'coef0': 0.0,\n",
       " 'decision_function_shape': 'ovr',\n",
       " 'degree': 3,\n",
       " 'gamma': 'scale',\n",
       " 'kernel': 'linear',\n",
       " 'max_iter': -1,\n",
       " 'probability': False,\n",
       " 'random_state': 1,\n",
       " 'shrinking': True,\n",
       " 'tol': 0.001,\n",
       " 'verbose': False}"
      ]
     },
     "execution_count": 7,
     "metadata": {},
     "output_type": "execute_result"
    }
   ],
   "source": [
    "svm.get_params()"
   ]
  },
  {
   "cell_type": "code",
   "execution_count": 13,
   "metadata": {
    "scrolled": true
   },
   "outputs": [
    {
     "data": {
      "image/png": "[encoded data removed]",
      "text/plain": [
       "<Figure size 432x288 with 2 Axes>"
      ]
     },
     "metadata": {
      "needs_background": "light"
     },
     "output_type": "display_data"
    }
   ],
   "source": [
    "   \n",
    "matriz_all_perm = confusion_matrix(y_test, y_pred) \n",
    "\n",
    "ax= plt.subplot()\n",
    "sns.heatmap(matriz_all_perm, annot=True, fmt='g', ax=ax); \n",
    "ax.set_xlabel('Classe Prevista');ax.set_ylabel('Classe Rela'); \n",
    "ax.set_title('Matriz de confusão'); \n",
    "ax.xaxis.set_ticklabels(['Benignos', 'Malwares']); ax.yaxis.set_ticklabels(['Benignos','Malwares']);\n",
    "plt.savefig(os.path.join('datasets/resultados/Matriz_all_PER2.png'), dpi=300, format='png', bbox_inches='tight')"
   ]
  },
  {
   "cell_type": "markdown",
   "metadata": {},
   "source": [
    "## SigPID 22 permissões"
   ]
  },
  {
   "cell_type": "code",
   "execution_count": 8,
   "metadata": {
    "scrolled": true
   },
   "outputs": [
    {
     "name": "stdout",
     "output_type": "stream",
     "text": [
      "____________________SVM SigPID 22 Permissões__________________\n",
      "Treino (7367,)\n",
      "Teste (4511,)\n",
      "__________________________________________________\n",
      "TN =  2731\n",
      "TP =  1249\n",
      "FP =  112\n",
      "FN =  419\n",
      "__________________________________________________\n",
      "              precision    recall  f1-score   support\n",
      "\n",
      "           0       0.87      0.96      0.91      2843\n",
      "           1       0.92      0.75      0.82      1668\n",
      "\n",
      "    accuracy                           0.88      4511\n",
      "   macro avg       0.89      0.85      0.87      4511\n",
      "weighted avg       0.89      0.88      0.88      4511\n",
      "\n"
     ]
    }
   ],
   "source": [
    "with open('datasets/resultados/temposSVM.txt', 'a') as arquivo:\n",
    "    start_time = timeit.default_timer()\n",
    "    state = np.random.randint(100)\n",
    "    Y = dataset_sigpid['class']\n",
    "    X = dataset_sigpid.drop(['class'], axis=1)\n",
    "    # dividir entre conjuntos de treino e teste\n",
    "    #note que \"test_size\" é o tamanho da amostra de teste\n",
    "    X_train, X_test, y_train, y_test = train_test_split(X, Y, stratify=Y, test_size=0.3,random_state=1)\n",
    "\n",
    "    X_train, X_val, y_train, y_val = train_test_split(X_train, y_train, test_size=0.3, random_state=1)\n",
    "    #iniciar o classificador\n",
    "    from sklearn.svm import SVC\n",
    "    svm = SVC(kernel='linear', C=1.0, random_state=1)\n",
    "    svm.fit(X_train,y_train)\n",
    "\n",
    "\n",
    "    # rótulos de predição para X_test\n",
    "    sigpid_predic=svm.predict(X_test)\n",
    "\n",
    "    #Metricas\n",
    "    \"\"\"\n",
    "    tn = Verdadeiro Negativo uma previsão correta prevista como benigno\n",
    "\n",
    "    fp = Falso Positivo um falso alarme um benigno previsto como malicioso\n",
    "\n",
    "    tp = Verdadeiro Positivo uma previsão correta (malicioso)\n",
    "\n",
    "    fn = Falso Negativo um rótulo malicioso previsto como benigno\n",
    "\n",
    "    \"\"\"\n",
    "\n",
    "    tn, fp, fn, tp = confusion_matrix(y_test, sigpid_predic).ravel()\n",
    "    elapsed = timeit.default_timer() - start_time\n",
    "\n",
    "    print('SVM_SigPID',elapsed, file=arquivo)\n",
    "    print('____________________SVM SigPID 22 Permissões__________________')\n",
    "    print('Treino',  y_train.shape)\n",
    "    print('Teste',  y_test.shape)\n",
    "    print('__________________________________________________')\n",
    "    print(\"TN = \",tn)\n",
    "    print(\"TP = \",tp)\n",
    "    print(\"FP = \",fp)\n",
    "    print(\"FN = \",fn)\n",
    "    print('__________________________________________________')\n",
    "    print(classification_report(y_test, sigpid_predic))"
   ]
  },
  {
   "cell_type": "code",
   "execution_count": 14,
   "metadata": {},
   "outputs": [
    {
     "data": {
      "image/png": "[encoded data removed]",
      "text/plain": [
       "<Figure size 432x288 with 2 Axes>"
      ]
     },
     "metadata": {
      "needs_background": "light"
     },
     "output_type": "display_data"
    }
   ],
   "source": [
    "   \n",
    "confusion = confusion_matrix(y_test, sigpid_predic) \n",
    "\n",
    "ax= plt.subplot()\n",
    "sns.heatmap(confusion, annot=True, fmt='g', ax=ax); \n",
    "ax.set_xlabel('Previstos');ax.set_ylabel('verdadeiros'); \n",
    "ax.set_title('Matriz de confusão'); \n",
    "ax.xaxis.set_ticklabels(['Benignos', 'Malwares']); ax.yaxis.set_ticklabels(['Benignos','Malwares']);\n",
    "plt.savefig(os.path.join('datasets/resultados/Matriz_SigPID_PER.png'), dpi=300, format='png', bbox_inches='tight')"
   ]
  },
  {
   "cell_type": "markdown",
   "metadata": {},
   "source": [
    "##  Perigossas da Google 22 permissões"
   ]
  },
  {
   "cell_type": "code",
   "execution_count": 9,
   "metadata": {},
   "outputs": [
    {
     "name": "stdout",
     "output_type": "stream",
     "text": [
      "____________________SVM Perigossas da Google 22 Permissões__________________\n",
      "Treino (7367,)\n",
      "Teste (4511,)\n",
      "__________________________________________________\n",
      "TN =  2660\n",
      "TP =  1199\n",
      "FP =  183\n",
      "FN =  469\n",
      "__________________________________________________\n",
      "              precision    recall  f1-score   support\n",
      "\n",
      "           0       0.85      0.94      0.89      2843\n",
      "           1       0.87      0.72      0.79      1668\n",
      "\n",
      "    accuracy                           0.86      4511\n",
      "   macro avg       0.86      0.83      0.84      4511\n",
      "weighted avg       0.86      0.86      0.85      4511\n",
      "\n"
     ]
    }
   ],
   "source": [
    "with open('datasets/resultados/temposSVM.txt', 'a') as arquivo:\n",
    "    start_time = timeit.default_timer()\n",
    "    state = np.random.randint(100)\n",
    "    Y = dataset_per_Perigosas['class']\n",
    "    X = dataset_per_Perigosas.drop(['class'], axis=1)\n",
    "    # dividir entre conjuntos de treino e teste\n",
    "    #note que \"test_size\" é o tamanho da amostra de teste\n",
    "    X_train, X_test, y_train, y_test = train_test_split(X, Y, stratify=Y, test_size=0.3,random_state=1)\n",
    "\n",
    "    X_train, X_val, y_train, y_val = train_test_split(X_train, y_train, test_size=0.3, random_state=1)\n",
    "    #iniciar o classificador\n",
    "    from sklearn.svm import SVC\n",
    "    svm = SVC(kernel='linear', C=1.0, random_state=1)\n",
    "    svm.fit(X_train,y_train)\n",
    "\n",
    "    # rótulos de predição para X_test\n",
    "    perigosas_predic=svm.predict(X_test)\n",
    "\n",
    "    #Metricas\n",
    "    \"\"\"\n",
    "    tn = Verdadeiro Negativo uma previsão correta prevista como benigno\n",
    "\n",
    "    fp = Falso Positivo um falso alarme um benigno previsto como malicioso\n",
    "\n",
    "    tp = Verdadeiro Positivo uma previsão correta (malicioso)\n",
    "\n",
    "    fn = Falso Negativo um rótulo malicioso previsto como benigno\n",
    "\n",
    "    \"\"\"\n",
    "\n",
    "    tn, fp, fn, tp = confusion_matrix(y_test, perigosas_predic).ravel()\n",
    "    elapsed = timeit.default_timer() - start_time\n",
    "\n",
    "    print('SVM_Perigossas',elapsed, file=arquivo)\n",
    "    print('____________________SVM Perigossas da Google 22 Permissões__________________')\n",
    "    print('Treino',  y_train.shape)\n",
    "    print('Teste',  y_test.shape)\n",
    "    print('__________________________________________________')\n",
    "    print(\"TN = \",tn)\n",
    "    print(\"TP = \",tp)\n",
    "    print(\"FP = \",fp)\n",
    "    print(\"FN = \",fn)\n",
    "    print('__________________________________________________')\n",
    "    print(classification_report(y_test, perigosas_predic))"
   ]
  },
  {
   "cell_type": "code",
   "execution_count": 15,
   "metadata": {},
   "outputs": [
    {
     "data": {
      "image/png": "[encoded data removed]",
      "text/plain": [
       "<Figure size 432x288 with 2 Axes>"
      ]
     },
     "metadata": {
      "needs_background": "light"
     },
     "output_type": "display_data"
    }
   ],
   "source": [
    "   \n",
    "confusion = confusion_matrix(y_test, perigosas_predic) \n",
    "\n",
    "ax= plt.subplot()\n",
    "sns.heatmap(confusion, annot=True, fmt='g', ax=ax); \n",
    "ax.set_xlabel('Previstos');ax.set_ylabel('verdadeiros'); \n",
    "ax.set_title('Matriz de confusão'); \n",
    "ax.xaxis.set_ticklabels(['Benignos', 'Malwares']); ax.yaxis.set_ticklabels(['Benignos','Malwares']);\n",
    "plt.savefig(os.path.join('datasets/resultados/Matriz_Perigosas_PER.png'), dpi=300, format='png', bbox_inches='tight')"
   ]
  },
  {
   "cell_type": "markdown",
   "metadata": {},
   "source": [
    "##  Recorrentes 32 permissões"
   ]
  },
  {
   "cell_type": "code",
   "execution_count": 16,
   "metadata": {},
   "outputs": [
    {
     "name": "stdout",
     "output_type": "stream",
     "text": [
      "____________________SVM Recorrentes 32 Permissões__________________\n",
      "Treino (7367,)\n",
      "Teste (4511,)\n",
      "__________________________________________________\n",
      "TN =  2667\n",
      "TP =  1360\n",
      "FP =  176\n",
      "FN =  308\n",
      "__________________________________________________\n",
      "              precision    recall  f1-score   support\n",
      "\n",
      "           0       0.90      0.94      0.92      2843\n",
      "           1       0.89      0.82      0.85      1668\n",
      "\n",
      "    accuracy                           0.89      4511\n",
      "   macro avg       0.89      0.88      0.88      4511\n",
      "weighted avg       0.89      0.89      0.89      4511\n",
      "\n"
     ]
    }
   ],
   "source": [
    "with open('datasets/resultados/temposSVM.txt', 'a') as arquivo:\n",
    "    start_time = timeit.default_timer()\n",
    "    state = np.random.randint(100)\n",
    "    Y = dataset_per_Recorrentes['class']\n",
    "    X = dataset_per_Recorrentes.drop(['class'], axis=1)\n",
    "    # dividir entre conjuntos de treino e teste\n",
    "    #note que \"test_size\" é o tamanho da amostra de teste\n",
    "    X_train, X_test, y_train, y_test = train_test_split(X, Y, stratify=Y, test_size=0.3,random_state=1)\n",
    "\n",
    "    X_train, X_val, y_train, y_val = train_test_split(X_train, y_train, test_size=0.3, random_state=1)\n",
    "    #iniciar o classificador\n",
    "    from sklearn.svm import SVC\n",
    "    svm = SVC(kernel='linear', C=1.0, random_state=1)\n",
    "    svm.fit(X_train,y_train)\n",
    "\n",
    "    # rótulos de predição para X_test\n",
    "    recorrentes_predic=svm.predict(X_test)\n",
    "\n",
    "    #Metricas\n",
    "    \"\"\"\n",
    "    tn = Verdadeiro Negativo uma previsão correta prevista como benigno\n",
    "\n",
    "    fp = Falso Positivo um falso alarme um benigno previsto como malicioso\n",
    "\n",
    "    tp = Verdadeiro Positivo uma previsão correta (malicioso)\n",
    "\n",
    "    fn = Falso Negativo um rótulo malicioso previsto como benigno\n",
    "\n",
    "    \"\"\"\n",
    "\n",
    "    tn, fp, fn, tp = confusion_matrix(y_test, recorrentes_predic).ravel()\n",
    "    elapsed = timeit.default_timer() - start_time\n",
    "\n",
    "    print('SVM_Recorrentes',elapsed, file=arquivo)\n",
    "    print('____________________SVM Recorrentes 32 Permissões__________________')\n",
    "    print('Treino',  y_train.shape)\n",
    "    print('Teste',  y_test.shape)\n",
    "    print('__________________________________________________')\n",
    "    print(\"TN = \",tn)\n",
    "    print(\"TP = \",tp)\n",
    "    print(\"FP = \",fp)\n",
    "    print(\"FN = \",fn)\n",
    "    print('__________________________________________________')\n",
    "    print(classification_report(y_test, recorrentes_predic))"
   ]
  },
  {
   "cell_type": "code",
   "execution_count": 17,
   "metadata": {},
   "outputs": [
    {
     "data": {
      "image/png": "[encoded data removed]",
      "text/plain": [
       "<Figure size 432x288 with 2 Axes>"
      ]
     },
     "metadata": {
      "needs_background": "light"
     },
     "output_type": "display_data"
    }
   ],
   "source": [
    "   \n",
    "confusion = confusion_matrix(y_test, recorrentes_predic) \n",
    "\n",
    "ax= plt.subplot()\n",
    "sns.heatmap(confusion, annot=True, fmt='g', ax=ax); \n",
    "ax.set_xlabel('Previstos');ax.set_ylabel('verdadeiros'); \n",
    "ax.set_title('Matriz de confusão'); \n",
    "ax.xaxis.set_ticklabels(['Benignos', 'Malwares']); ax.yaxis.set_ticklabels(['Benignos','Malwares']);\n",
    "plt.savefig(os.path.join('datasets/resultados/Matriz_Recorrentes_PER.png'), dpi=300, format='png', bbox_inches='tight')"
   ]
  },
  {
   "cell_type": "markdown",
   "metadata": {},
   "source": [
    "**Runtime**"
   ]
  },
  {
   "cell_type": "code",
   "execution_count": 18,
   "metadata": {},
   "outputs": [
    {
     "data": {
      "image/png": "[encoded data removed]",
      "text/plain": [
       "<Figure size 432x288 with 1 Axes>"
      ]
     },
     "metadata": {
      "needs_background": "light"
     },
     "output_type": "display_data"
    }
   ],
   "source": [
    "import pylab as pl\n",
    "\n",
    "dados = []\n",
    "valores = []\n",
    "\n",
    "try :\n",
    "    with open('datasets/resultados/temposSVM.txt', 'r') as openedFile :\n",
    "        for line in openedFile :\n",
    "            tab = line.split()\n",
    "            dados.append(str(tab[0]))\n",
    "            valores.append(float(tab[1]))\n",
    "except IOError :\n",
    "    print(\"IOError!\")\n",
    "\n",
    "x = dados\n",
    "y = valores\n",
    "\n",
    "width = 0.35  # the width of the bars\n",
    "\n",
    "fig, ax = plt.subplots()\n",
    "#rects1 = ax.bar(x, y, width)\n",
    "rects2 = ax.bar(x , y, width)\n",
    "\n",
    "# Add some text for labels, title and custom x-axis tick labels, etc.\n",
    "ax.set_ylabel('Tempo')\n",
    "ax.set_title('Tempo de Execução SVM')\n",
    "fig.tight_layout()\n",
    "fig.savefig(os.path.join('datasets/resultados/Execucao_SVM.png'), dpi=300, format='png', bbox_inches='tight')"
   ]
  },
  {
   "cell_type": "code",
   "execution_count": 19,
   "metadata": {},
   "outputs": [
    {
     "name": "stdout",
     "output_type": "stream",
     "text": [
      "Scikit-learn versão 0.24.1.\n",
      "3.8.8\n",
      "C:\\Users\\joner\\Anaconda3\\python.exe\n",
      "3.8.8 (default, Apr 13 2021, 15:08:03) [MSC v.1916 64 bit (AMD64)]\n",
      "sys.version_info(major=3, minor=8, micro=8, releaselevel='final', serial=0)\n"
     ]
    }
   ],
   "source": [
    "print('Scikit-learn versão {}.'.format(sklearn.__version__))\n",
    "from platform import python_version\n",
    "import sys\n",
    "print(python_version())\n",
    "print(sys.executable)\n",
    "print(sys.version)\n",
    "print(sys.version_info)\n"
   ]
  },
  {
   "cell_type": "code",
   "execution_count": null,
   "metadata": {},
   "outputs": [],
   "source": []
  }
 ],
 "metadata": {
  "kernelspec": {
   "display_name": "Python 3",
   "language": "python",
   "name": "python3"
  },
  "language_info": {
   "codemirror_mode": {
    "name": "ipython",
    "version": 3
   },
   "file_extension": ".py",
   "mimetype": "text/x-python",
   "name": "python",
   "nbconvert_exporter": "python",
   "pygments_lexer": "ipython3",
   "version": "3.8.8"
  }
 },
 "nbformat": 4,
 "nbformat_minor": 4
}
