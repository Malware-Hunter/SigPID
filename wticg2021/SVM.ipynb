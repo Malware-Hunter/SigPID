{
 "cells": [
  {
   "cell_type": "markdown",
   "metadata": {},
   "source": [
    "## SVM\n",
    "**Este estudo utilizas como baseline as permissões contidas no dataset Drebin_215**"
   ]
  },
  {
   "cell_type": "code",
   "execution_count": null,
   "metadata": {},
   "outputs": [],
   "source": []
  },
  {
   "cell_type": "code",
   "execution_count": null,
   "metadata": {},
   "outputs": [],
   "source": [
    "import sklearn\n",
    "import timeit\n",
    "import pickle\n",
    "import seaborn as sns\n",
    "from matplotlib import pyplot as plt\n",
    "from sklearn.metrics import classification_report, confusion_matrix,plot_confusion_matrix, plot_roc_curve\n",
    "from sklearn.model_selection import train_test_split\n",
    "import pandas as pd\n",
    "import numpy  as np\n",
    "import os, sys, stat\n",
    "import matplotlib.pyplot as plt\n",
    "from sklearn.svm import SVC\n",
    "from sklearn.metrics import plot_roc_curve\n",
    "from sklearn.datasets import load_wine\n",
    "from sklearn.model_selection import train_test_split\n",
    "import sklearn.model_selection as ms\n",
    "import sklearn.svm as svm"
   ]
  },
  {
   "cell_type": "markdown",
   "metadata": {},
   "source": [
    "## Load the datasets"
   ]
  },
  {
   "cell_type": "markdown",
   "metadata": {},
   "source": [
    "**load the baseline dataset**"
   ]
  },
  {
   "cell_type": "code",
   "execution_count": null,
   "metadata": {},
   "outputs": [],
   "source": [
    "dataset_df = pd.read_csv('datasets/DrebinDatasetPermissoes.csv', encoding = 'utf8')"
   ]
  },
  {
   "cell_type": "markdown",
   "metadata": {},
   "source": [
    "**load the dataset SigPID**"
   ]
  },
  {
   "cell_type": "code",
   "execution_count": null,
   "metadata": {},
   "outputs": [],
   "source": [
    "dataset_sigpid = pd.read_csv(\"datasets/SigPID.csv\", encoding = 'utf8')"
   ]
  },
  {
   "cell_type": "markdown",
   "metadata": {},
   "source": [
    "**load the dangerous permissions**"
   ]
  },
  {
   "cell_type": "code",
   "execution_count": null,
   "metadata": {},
   "outputs": [],
   "source": [
    "dataset_per_Perigosas = pd.read_csv(\"datasets/PerigosasGoogle.csv\", encoding = 'utf8')"
   ]
  },
  {
   "cell_type": "markdown",
   "metadata": {},
   "source": [
    "**load the recurrent permissions**"
   ]
  },
  {
   "cell_type": "code",
   "execution_count": null,
   "metadata": {},
   "outputs": [],
   "source": [
    "dataset_per_Recorrentes = pd.read_csv(\"datasets/PermissoesRecorrentes.csv\", encoding = 'utf8')"
   ]
  },
  {
   "cell_type": "markdown",
   "metadata": {},
   "source": [
    "## Baseline 113 permissões"
   ]
  },
  {
   "cell_type": "code",
   "execution_count": null,
   "metadata": {
    "scrolled": true
   },
   "outputs": [],
   "source": [
    "with open('datasets/resultados/temposSVM.txt', 'a') as arquivo:\n",
    "    start_time = timeit.default_timer()\n",
    "\n",
    "    #state = np.random.randint(100)\n",
    "    Y = dataset_df['class']\n",
    "    X = dataset_df.drop(['class'], axis=1)\n",
    "    # dividir entre conjuntos de treino e teste\n",
    "    X_train, X_test, y_train, y_test = train_test_split(X, Y, stratify=Y, test_size=0.3,random_state=1)\n",
    "\n",
    "    X_train, X_val, y_train, y_val = train_test_split(X_train, y_train, test_size=0.3, random_state=1)\n",
    "    \n",
    "    from sklearn.svm import SVC\n",
    "    svm = SVC(kernel='linear', C=1.0, random_state=1)\n",
    "    svm.fit(X_train,y_train)\n",
    "\n",
    "    # rótulos de predição para X_test\n",
    "    y_pred=svm.predict(X_test)\n",
    "\n",
    "    #Metricas\n",
    "    \"\"\"\n",
    "    tn = Verdadeiro Negativo uma previsão correta prevista como benigno\n",
    "\n",
    "    fp = Falso Positivo um falso alarme um benigno previsto como malicioso\n",
    "\n",
    "    tp = Verdadeiro Positivo uma previsão correta (malicioso)\n",
    "\n",
    "    fn = Falso Negativo um rótulo malicioso previsto como benigno\n",
    "\n",
    "    \"\"\"\n",
    "\n",
    "    tn, fp, fn, tp = confusion_matrix(y_test, y_pred).ravel()\n",
    "    elapsed = timeit.default_timer() - start_time\n",
    "\n",
    "    print('SVM_113',elapsed, file=arquivo)\n",
    "    print('____________________SVM 113 Permissões__________________')\n",
    "    print('Treino',  y_train.shape)\n",
    "    print('Teste',  y_test.shape)\n",
    "    print('__________________________________________________')\n",
    "    print(\"TN = \",tn)\n",
    "    print(\"TP = \",tp)\n",
    "    print(\"FP = \",fp)\n",
    "    print(\"FN = \",fn)\n",
    "    print('__________________________________________________')\n",
    "    print(classification_report(y_test, y_pred))"
   ]
  },
  {
   "cell_type": "code",
   "execution_count": null,
   "metadata": {},
   "outputs": [],
   "source": [
    "svm.get_params()"
   ]
  },
  {
   "cell_type": "code",
   "execution_count": null,
   "metadata": {
    "scrolled": true
   },
   "outputs": [],
   "source": [
    "   \n",
    "matriz_all_perm = confusion_matrix(y_test, y_pred) \n",
    "\n",
    "ax= plt.subplot()\n",
    "sns.heatmap(matriz_all_perm, annot=True, fmt='g', ax=ax); \n",
    "ax.set_xlabel('Classe Prevista');ax.set_ylabel('Classe Rela'); \n",
    "ax.set_title('Matriz de confusão'); \n",
    "ax.xaxis.set_ticklabels(['Benignos', 'Malwares']); ax.yaxis.set_ticklabels(['Benignos','Malwares']);\n",
    "plt.savefig(os.path.join('datasets/resultados/Matriz_all_PER2.png'), dpi=300, format='png', bbox_inches='tight')"
   ]
  },
  {
   "cell_type": "markdown",
   "metadata": {},
   "source": [
    "## SigPID 22 permissões"
   ]
  },
  {
   "cell_type": "code",
   "execution_count": null,
   "metadata": {
    "scrolled": true
   },
   "outputs": [],
   "source": [
    "with open('datasets/resultados/temposSVM.txt', 'a') as arquivo:\n",
    "    start_time = timeit.default_timer()\n",
    "    state = np.random.randint(100)\n",
    "    Y = dataset_sigpid['class']\n",
    "    X = dataset_sigpid.drop(['class'], axis=1)\n",
    "    # dividir entre conjuntos de treino e teste\n",
    "    #note que \"test_size\" é o tamanho da amostra de teste\n",
    "    X_train, X_test, y_train, y_test = train_test_split(X, Y, stratify=Y, test_size=0.3,random_state=1)\n",
    "\n",
    "    X_train, X_val, y_train, y_val = train_test_split(X_train, y_train, test_size=0.3, random_state=1)\n",
    "    #iniciar o classificador\n",
    "    from sklearn.svm import SVC\n",
    "    svm = SVC(kernel='linear', C=1.0, random_state=1)\n",
    "    svm.fit(X_train,y_train)\n",
    "\n",
    "\n",
    "    # rótulos de predição para X_test\n",
    "    sigpid_predic=svm.predict(X_test)\n",
    "\n",
    "    #Metricas\n",
    "    \"\"\"\n",
    "    tn = Verdadeiro Negativo uma previsão correta prevista como benigno\n",
    "\n",
    "    fp = Falso Positivo um falso alarme um benigno previsto como malicioso\n",
    "\n",
    "    tp = Verdadeiro Positivo uma previsão correta (malicioso)\n",
    "\n",
    "    fn = Falso Negativo um rótulo malicioso previsto como benigno\n",
    "\n",
    "    \"\"\"\n",
    "\n",
    "    tn, fp, fn, tp = confusion_matrix(y_test, sigpid_predic).ravel()\n",
    "    elapsed = timeit.default_timer() - start_time\n",
    "\n",
    "    print('SVM_SigPID',elapsed, file=arquivo)\n",
    "    print('____________________SVM SigPID 22 Permissões__________________')\n",
    "    print('Treino',  y_train.shape)\n",
    "    print('Teste',  y_test.shape)\n",
    "    print('__________________________________________________')\n",
    "    print(\"TN = \",tn)\n",
    "    print(\"TP = \",tp)\n",
    "    print(\"FP = \",fp)\n",
    "    print(\"FN = \",fn)\n",
    "    print('__________________________________________________')\n",
    "    print(classification_report(y_test, sigpid_predic))"
   ]
  },
  {
   "cell_type": "code",
   "execution_count": null,
   "metadata": {},
   "outputs": [],
   "source": [
    "   \n",
    "confusion = confusion_matrix(y_test, sigpid_predic) \n",
    "\n",
    "ax= plt.subplot()\n",
    "sns.heatmap(confusion, annot=True, fmt='g', ax=ax); \n",
    "ax.set_xlabel('Previstos');ax.set_ylabel('verdadeiros'); \n",
    "ax.set_title('Matriz de confusão'); \n",
    "ax.xaxis.set_ticklabels(['Benignos', 'Malwares']); ax.yaxis.set_ticklabels(['Benignos','Malwares']);\n",
    "plt.savefig(os.path.join('datasets/resultados/Matriz_SigPID_PER.png'), dpi=300, format='png', bbox_inches='tight')"
   ]
  },
  {
   "cell_type": "markdown",
   "metadata": {},
   "source": [
    "##  Perigossas da Google 22 permissões"
   ]
  },
  {
   "cell_type": "code",
   "execution_count": null,
   "metadata": {},
   "outputs": [],
   "source": [
    "with open('datasets/resultados/temposSVM.txt', 'a') as arquivo:\n",
    "    start_time = timeit.default_timer()\n",
    "    state = np.random.randint(100)\n",
    "    Y = dataset_per_Perigosas['class']\n",
    "    X = dataset_per_Perigosas.drop(['class'], axis=1)\n",
    "    # dividir entre conjuntos de treino e teste\n",
    "    #note que \"test_size\" é o tamanho da amostra de teste\n",
    "    X_train, X_test, y_train, y_test = train_test_split(X, Y, stratify=Y, test_size=0.3,random_state=1)\n",
    "\n",
    "    X_train, X_val, y_train, y_val = train_test_split(X_train, y_train, test_size=0.3, random_state=1)\n",
    "    #iniciar o classificador\n",
    "    from sklearn.svm import SVC\n",
    "    svm = SVC(kernel='linear', C=1.0, random_state=1)\n",
    "    svm.fit(X_train,y_train)\n",
    "\n",
    "    # rótulos de predição para X_test\n",
    "    perigosas_predic=svm.predict(X_test)\n",
    "\n",
    "    #Metricas\n",
    "    \"\"\"\n",
    "    tn = Verdadeiro Negativo uma previsão correta prevista como benigno\n",
    "\n",
    "    fp = Falso Positivo um falso alarme um benigno previsto como malicioso\n",
    "\n",
    "    tp = Verdadeiro Positivo uma previsão correta (malicioso)\n",
    "\n",
    "    fn = Falso Negativo um rótulo malicioso previsto como benigno\n",
    "\n",
    "    \"\"\"\n",
    "\n",
    "    tn, fp, fn, tp = confusion_matrix(y_test, perigosas_predic).ravel()\n",
    "    elapsed = timeit.default_timer() - start_time\n",
    "\n",
    "    print('SVM_Perigossas',elapsed, file=arquivo)\n",
    "    print('____________________SVM Perigossas da Google 22 Permissões__________________')\n",
    "    print('Treino',  y_train.shape)\n",
    "    print('Teste',  y_test.shape)\n",
    "    print('__________________________________________________')\n",
    "    print(\"TN = \",tn)\n",
    "    print(\"TP = \",tp)\n",
    "    print(\"FP = \",fp)\n",
    "    print(\"FN = \",fn)\n",
    "    print('__________________________________________________')\n",
    "    print(classification_report(y_test, perigosas_predic))"
   ]
  },
  {
   "cell_type": "code",
   "execution_count": null,
   "metadata": {},
   "outputs": [],
   "source": [
    "   \n",
    "confusion = confusion_matrix(y_test, perigosas_predic) \n",
    "\n",
    "ax= plt.subplot()\n",
    "sns.heatmap(confusion, annot=True, fmt='g', ax=ax); \n",
    "ax.set_xlabel('Previstos');ax.set_ylabel('verdadeiros'); \n",
    "ax.set_title('Matriz de confusão'); \n",
    "ax.xaxis.set_ticklabels(['Benignos', 'Malwares']); ax.yaxis.set_ticklabels(['Benignos','Malwares']);\n",
    "plt.savefig(os.path.join('datasets/resultados/Matriz_Perigosas_PER.png'), dpi=300, format='png', bbox_inches='tight')"
   ]
  },
  {
   "cell_type": "markdown",
   "metadata": {},
   "source": [
    "##  Recorrentes 32 permissões"
   ]
  },
  {
   "cell_type": "code",
   "execution_count": null,
   "metadata": {},
   "outputs": [],
   "source": [
    "with open('datasets/resultados/temposSVM.txt', 'a') as arquivo:\n",
    "    start_time = timeit.default_timer()\n",
    "    state = np.random.randint(100)\n",
    "    Y = dataset_per_Recorrentes['class']\n",
    "    X = dataset_per_Recorrentes.drop(['class'], axis=1)\n",
    "    # dividir entre conjuntos de treino e teste\n",
    "    #note que \"test_size\" é o tamanho da amostra de teste\n",
    "    X_train, X_test, y_train, y_test = train_test_split(X, Y, stratify=Y, test_size=0.3,random_state=1)\n",
    "\n",
    "    X_train, X_val, y_train, y_val = train_test_split(X_train, y_train, test_size=0.3, random_state=1)\n",
    "    #iniciar o classificador\n",
    "    from sklearn.svm import SVC\n",
    "    svm = SVC(kernel='linear', C=1.0, random_state=1)\n",
    "    svm.fit(X_train,y_train)\n",
    "\n",
    "    # rótulos de predição para X_test\n",
    "    recorrentes_predic=svm.predict(X_test)\n",
    "\n",
    "    #Metricas\n",
    "    \"\"\"\n",
    "    tn = Verdadeiro Negativo uma previsão correta prevista como benigno\n",
    "\n",
    "    fp = Falso Positivo um falso alarme um benigno previsto como malicioso\n",
    "\n",
    "    tp = Verdadeiro Positivo uma previsão correta (malicioso)\n",
    "\n",
    "    fn = Falso Negativo um rótulo malicioso previsto como benigno\n",
    "\n",
    "    \"\"\"\n",
    "\n",
    "    tn, fp, fn, tp = confusion_matrix(y_test, recorrentes_predic).ravel()\n",
    "    elapsed = timeit.default_timer() - start_time\n",
    "\n",
    "    print('SVM_Recorrentes',elapsed, file=arquivo)\n",
    "    print('____________________SVM Recorrentes 32 Permissões__________________')\n",
    "    print('Treino',  y_train.shape)\n",
    "    print('Teste',  y_test.shape)\n",
    "    print('__________________________________________________')\n",
    "    print(\"TN = \",tn)\n",
    "    print(\"TP = \",tp)\n",
    "    print(\"FP = \",fp)\n",
    "    print(\"FN = \",fn)\n",
    "    print('__________________________________________________')\n",
    "    print(classification_report(y_test, recorrentes_predic))"
   ]
  },
  {
   "cell_type": "code",
   "execution_count": null,
   "metadata": {},
   "outputs": [],
   "source": [
    "   \n",
    "confusion = confusion_matrix(y_test, recorrentes_predic) \n",
    "\n",
    "ax= plt.subplot()\n",
    "sns.heatmap(confusion, annot=True, fmt='g', ax=ax); \n",
    "ax.set_xlabel('Previstos');ax.set_ylabel('verdadeiros'); \n",
    "ax.set_title('Matriz de confusão'); \n",
    "ax.xaxis.set_ticklabels(['Benignos', 'Malwares']); ax.yaxis.set_ticklabels(['Benignos','Malwares']);\n",
    "plt.savefig(os.path.join('datasets/resultados/Matriz_Recorrentes_PER.png'), dpi=300, format='png', bbox_inches='tight')"
   ]
  },
  {
   "cell_type": "markdown",
   "metadata": {},
   "source": [
    "**Runtime**"
   ]
  },
  {
   "cell_type": "code",
   "execution_count": null,
   "metadata": {},
   "outputs": [],
   "source": [
    "import pylab as pl\n",
    "\n",
    "dados = []\n",
    "valores = []\n",
    "\n",
    "try :\n",
    "    with open('datasets/resultados/temposSVM.txt', 'r') as openedFile :\n",
    "        for line in openedFile :\n",
    "            tab = line.split()\n",
    "            dados.append(str(tab[0]))\n",
    "            valores.append(float(tab[1]))\n",
    "except IOError :\n",
    "    print(\"IOError!\")\n",
    "\n",
    "x = dados\n",
    "y = valores\n",
    "\n",
    "width = 0.35  # the width of the bars\n",
    "\n",
    "fig, ax = plt.subplots()\n",
    "#rects1 = ax.bar(x, y, width)\n",
    "rects2 = ax.bar(x , y, width)\n",
    "\n",
    "# Add some text for labels, title and custom x-axis tick labels, etc.\n",
    "ax.set_ylabel('Tempo')\n",
    "ax.set_title('Tempo de Execução SVM')\n",
    "fig.tight_layout()\n",
    "fig.savefig(os.path.join('datasets/resultados/Execucao_SVM.png'), dpi=300, format='png', bbox_inches='tight')"
   ]
  },
  {
   "cell_type": "code",
   "execution_count": null,
   "metadata": {},
   "outputs": [],
   "source": [
    "print('Scikit-learn versão {}.'.format(sklearn.__version__))\n",
    "from platform import python_version\n",
    "import sys\n",
    "print(python_version())\n",
    "print(sys.executable)\n",
    "print(sys.version)\n",
    "print(sys.version_info)\n"
   ]
  },
  {
   "cell_type": "code",
   "execution_count": null,
   "metadata": {},
   "outputs": [],
   "source": []
  }
 ],
 "metadata": {
  "kernelspec": {
   "display_name": "Python 3",
   "language": "python",
   "name": "python3"
  },
  "language_info": {
   "codemirror_mode": {
    "name": "ipython",
    "version": 3
   },
   "file_extension": ".py",
   "mimetype": "text/x-python",
   "name": "python",
   "nbconvert_exporter": "python",
   "pygments_lexer": "ipython3",
   "version": "3.8.8"
  }
 },
 "nbformat": 4,
 "nbformat_minor": 4
}
