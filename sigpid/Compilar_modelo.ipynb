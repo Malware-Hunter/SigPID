{
 "cells": [
  {
   "cell_type": "code",
   "execution_count": null,
   "id": "c017db6f",
   "metadata": {},
   "outputs": [],
   "source": [
    "dataset_df = pd.read_csv ('DrebinDatasetPermissoes.csv')\n",
    "Y = dataset_df['class']\n",
    "X = dataset_df.drop(['class'], axis=1)\n",
    "#note que \"test_size\" é o tamanho da amostra de teste\n",
    "X_train, X_test, y_train, y_test = train_test_split(X, Y, test_size=0.3,random_state=1)\n",
    "#iniciar o classificador\n",
    "clf1 = RandomForestClassifier()\n",
    "#treinamento\n",
    "clf1.fit(X_train,y_train)\n",
    "\n",
    "# rótulos de predição para X_test\n",
    "#y_pred=clf1.predict(X_test)\n",
    "\n",
    "filename = 'sigpid.pkl'\n",
    "pickle.dump(clf1, open(filename, 'wb'))\n",
    " \n",
    "\n",
    "loaded_model = pickle.load(open(filename, 'rb'))\n",
    "result = loaded_model.score(X_test, y_test)\n",
    "print(result)"
   ]
  }
 ],
 "metadata": {
  "kernelspec": {
   "display_name": "Python 3",
   "language": "python",
   "name": "python3"
  },
  "language_info": {
   "codemirror_mode": {
    "name": "ipython",
    "version": 3
   },
   "file_extension": ".py",
   "mimetype": "text/x-python",
   "name": "python",
   "nbconvert_exporter": "python",
   "pygments_lexer": "ipython3",
   "version": "3.8.8"
  }
 },
 "nbformat": 4,
 "nbformat_minor": 5
}
